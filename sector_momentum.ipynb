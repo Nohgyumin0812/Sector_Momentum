{
  "nbformat": 4,
  "nbformat_minor": 0,
  "metadata": {
    "colab": {
      "provenance": [],
      "mount_file_id": "1jUdfiWDJxK6sG8qWnVkUY-e4EhW_XPmw",
      "authorship_tag": "ABX9TyOXIBOGYYw8mdZEWMFx8A5w",
      "include_colab_link": true
    },
    "kernelspec": {
      "name": "python3",
      "display_name": "Python 3"
    },
    "language_info": {
      "name": "python"
    }
  },
  "cells": [
    {
      "cell_type": "markdown",
      "metadata": {
        "id": "view-in-github",
        "colab_type": "text"
      },
      "source": [
        "<a href=\"https://colab.research.google.com/github/Nohgyumin0812/Sector_Momentum/blob/main/sector_momentum.ipynb\" target=\"_parent\"><img src=\"https://colab.research.google.com/assets/colab-badge.svg\" alt=\"Open In Colab\"/></a>"
      ]
    },
    {
      "cell_type": "code",
      "execution_count": 1,
      "metadata": {
        "id": "OfPMgyMsMkGw"
      },
      "outputs": [],
      "source": [
        "import time\n",
        "import requests\n",
        "import pandas as pd\n",
        "import requests as rq\n",
        "from io import BytesIO\n",
        "import pandas as pd\n",
        "import matplotlib.pyplot as plt\n",
        "\n",
        "path = '/content/drive/MyDrive'\n",
        "from google.colab import drive\n",
        "drive.mount('/content/drive')"
      ]
    },
    {
      "cell_type": "code",
      "source": [
        "# 섹터\n",
        "# 자동차, 반도체, 헬스케어, 은행, 에너지화학, 철강, 방송통신, 건설, 증권, 기계장비, 보험, 운송, 경기소비재, 필수소비재, 미디어엔터, 정보기술, 유틸, 음식료, 유통,"
      ],
      "metadata": {
        "id": "wfdG9I_0dyPH"
      },
      "execution_count": 3,
      "outputs": []
    },
    {
      "cell_type": "code",
      "source": [
        "sector_code = {'KRX 자동차' : [\"5\", \"043\"],\n",
        "'KRX 반도체' : [\"5\", \"044\"],\n",
        "'KRX 헬스케어' : [\"5\", \"045\"],\n",
        "'KRX 은행' : [\"5\", \"046\"],\n",
        "'KRX 에너지화학' : ['5', \"048\"],\n",
        "'KRX 철강' : [\"5\", '049'],\n",
        "\"KRX 방송통신\" :['5', \"051\"],\n",
        "\"KRX 건설\" :[\"5\", \"052\"],\n",
        "\"KRX 증권\" : [\"5\", \"054\"],\n",
        "\"KRX 기계장비\" : [\"5\", \"055\"],\n",
        "\"KRX 보험\" : [\"5\", \"056\"],\n",
        "\"KRX 운송\" : [\"5\", \"057\"],\n",
        "\"KRX 경기소비재\" : [\"5\", \"061\"],\n",
        "\"KRX 필수소비재\" : [\"5\", \"062\"],\n",
        "\"KRX 미디어엔터\" : [\"5\", \"063\"],\n",
        "\"KRX 정보기술\" : [\"5\", \"064\"],\n",
        "\"KRX 유틸리티\" : [\"5\", \"065\"],\n",
        "\"음식료품\" :[\"1\", \"005\"],\n",
        "\"유통업\" :[\"1\",\"016\"]\n",
        "}\n",
        "\n",
        "mo1_start_date = '20231214'\n",
        "mo1_end_date = '20240114'\n",
        "\n",
        "mo3_start_date = '20231014'\n",
        "mo3_end_date = '20240114'\n",
        "\n",
        "\n",
        "df_list = []\n",
        "ret_lst = []\n",
        "sector_name_lst = list(sector_code.keys())"
      ],
      "metadata": {
        "id": "OuHNveR5hBWC"
      },
      "execution_count": 14,
      "outputs": []
    },
    {
      "cell_type": "code",
      "source": [
        "# 섹터 이름\n",
        "# generate.cmd에서 Request URL과 동일\n",
        "\n",
        "def sector_return(strtDd, endDd):\n",
        "   ret_lst = []\n",
        "   for i in range(len(sector_name_lst)):\n",
        "      gen_otp_url = 'http://data.krx.co.kr/comm/fileDn/GenerateOTP/generate.cmd'\n",
        "\n",
        "      tboxindIdx_finder_equidx0_1 = sector_name_lst[i]\n",
        "      indIdx = list(sector_code.values())[i][0]\n",
        "      indIdx2 = list(sector_code.values())[i][1]\n",
        "# generate.cmd에서 Form Data와 동일\n",
        "      gen_otp_data = {'locale': 'ko_KR',\n",
        "'tboxindIdx_finder_equidx0_1': tboxindIdx_finder_equidx0_1, # KRX 자동차\n",
        "'indIdx': indIdx, # 5\n",
        "'indIdx2': indIdx2, # 043\n",
        "'codeNmindIdx_finder_equidx0_1': tboxindIdx_finder_equidx0_1, # KRX 자동차\n",
        "'param1indIdx_finder_equidx0_1': \"\",\n",
        "'strtDd': strtDd, # 시작날짜(ex. 20230324)\n",
        "'endDd': endDd, # 끝날짜(ex. 20230401)\n",
        "'share': '2',\n",
        "'money': '3',\n",
        "'csvxls_isNo': 'false',\n",
        "'name': 'fileDown',\n",
        "'url': 'dbms/MDC/STAT/standard/MDCSTAT00301'\n",
        "}\n",
        "# 헤더 부분에 리퍼러(Referer)를 추가\n",
        "# 리퍼러란 링크를 통해서 각각의 웹사이트로 방문할 때 남는 흔적\n",
        "\n",
        "      headers = {'Referer': 'http://data.krx.co.kr/contents/MDC/MDI/mdiLoader'}\n",
        "      otp = rq.post(gen_otp_url, gen_otp_data, headers=headers).text\n",
        "\n",
        "#download.cmd 에서 General의 Request URL 부분\n",
        "      down_url = 'http://data.krx.co.kr/comm/fileDn/download_csv/download.cmd'\n",
        "\n",
        "# requests Module의 post함수를 이용하여 해당 url에 접속하여 otp코드를 제출\n",
        "      down_sector  = rq.post(down_url, {'code':otp}, headers=headers)\n",
        "\n",
        "# 다운 받은 csv파일을 pandas의 read_csv 함수를 이용하여 읽음\n",
        "# read_csv 함수의 argument에 적합할 수 있도록 BytesIO함수를 이용하여 바이너 스트림 형태로\n",
        "      sector = pd.read_csv(BytesIO(down_sector.content), encoding='EUC-KR')\n",
        "\n",
        "      sector_name = list(sector_code.keys())[i]\n",
        "      ret = (sector.iloc[0, 1] - sector.iloc[-1, 1])/ sector.iloc[-1, 1]\n",
        "      ret_lst.append(ret)\n",
        "      df = pd.DataFrame(zip(sector_name_lst, ret_lst))\n",
        "      df.columns = ['sector_name', f'ret_{strtDd}']\n",
        "      df = df.sort_values(by = f'ret_{strtDd}', ascending = False).reset_index(drop = True)\n",
        "\n",
        "   return df\n",
        "\n",
        "\n",
        "\n",
        "\n",
        "df_mo1 = sector_return(mo1_start_date, mo1_end_date)\n",
        "df_mo3 = sector_return(mo3_start_date, mo3_end_date)\n",
        "df = pd.merge(df_mo1, df_mo3).rename(columns = {'ret_20231214' : 'mo1', 'ret_20231014' : 'mo3'})\n",
        "print(df)\n"
      ],
      "metadata": {
        "id": "SfBPb-Bx578j"
      },
      "execution_count": 34,
      "outputs": []
    }
  ]
}